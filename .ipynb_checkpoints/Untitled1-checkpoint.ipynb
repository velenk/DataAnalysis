{
 "cells": [
  {
   "cell_type": "code",
   "execution_count": 10,
   "metadata": {},
   "outputs": [
    {
     "name": "stdout",
     "output_type": "stream",
     "text": [
      "2 10\n",
      "11 3\n",
      "19 7\n",
      "he was probably lying\n"
     ]
    }
   ],
   "source": [
    "def gcd(aa, bb):\n",
    "    while(bb):\n",
    "        aa = aa + bb\n",
    "        bb = aa - bb\n",
    "        aa = aa - bb\n",
    "        bb = bb % aa\n",
    "    return aa\n",
    "def lcm(aaa, bbb):\n",
    "    return aaa // gcd(aaa, bbb) * bbb\n",
    "x = 0\n",
    "y = 0\n",
    "a = [0 for i in range(150)]\n",
    "b = [0 for i in range(150)]\n",
    "\n",
    "def exgcd(al, bl):\n",
    "    global x\n",
    "    global y\n",
    "    if(bl == 0):\n",
    "        x = 1\n",
    "        y = 0\n",
    "        return al\n",
    "    r = exgcd(bl, al%bl)\n",
    "    temp = y\n",
    "    y = x - (al//bl) * y\n",
    "    x = temp\n",
    "#     print(x)\n",
    "    return r\n",
    "\n",
    "def excrt(n):\n",
    "    global x\n",
    "    M = a[1]\n",
    "    res = b[1] % a[1]\n",
    "    for i in range(2, n+1):\n",
    "        d = exgcd(M, a[i])\n",
    "        t = x\n",
    "        c = b[i] - (res % a[i]) + a[i]\n",
    "#         print(x)\n",
    "        c = c % a[i]\n",
    "#         print(\"t: \", t)\n",
    "        if(c % d):\n",
    "            return -1\n",
    "        \n",
    "        t = (t * (c // d)) % a[i]\n",
    "        res += (t * M)\n",
    "        M = lcm(M, a[i])\n",
    "        res = (res % M + M) % M\n",
    "#         print(\"M: \", M)\n",
    "#         print(\"res: \", res)\n",
    "#         print(\"t: \", t)\n",
    "    return (res % M + M) % M\n",
    "    \n",
    "nm_str = input()\n",
    "nm_str = nm_str.split(' ')\n",
    "n = int(nm_str[0])\n",
    "m = int(nm_str[1])\n",
    "for i in range(1, n+1):\n",
    "    ab_str = input()\n",
    "    ab_str = ab_str.split(' ')\n",
    "    a[i] = int(ab_str[0])\n",
    "    b[i] = int(ab_str[1])\n",
    "ans = excrt(n)\n",
    "if(ans == -1):\n",
    "    print(\"he was definitely lying\")\n",
    "elif(ans > m):\n",
    "    print(\"he was probably lying\")\n",
    "else:\n",
    "    print(ans)"
   ]
  },
  {
   "cell_type": "code",
   "execution_count": 8,
   "metadata": {},
   "outputs": [
    {
     "name": "stdout",
     "output_type": "stream",
     "text": [
      "2 12\n"
     ]
    }
   ],
   "source": [
    "def gcd(a, b):\n",
    "    while(b):\n",
    "        a = a + b\n",
    "        b = a - b\n",
    "        a = a - b\n",
    "        b = b % a\n",
    "    return a\n",
    "def lcm(a, b):\n",
    "    return a // gcd(a, b) * b\n",
    "\n",
    "a = 2\n",
    "b = 12\n",
    "print(gcd(a, b), lcm(a, b))"
   ]
  },
  {
   "cell_type": "code",
   "execution_count": null,
   "metadata": {},
   "outputs": [],
   "source": [
    "nm_str = input()\n",
    "nm_str = nm_str.split(' ')\n",
    "n = int(nm_str[0])\n",
    "m = int(nm_str[1])\n",
    "for i in range(1, n+1):\n",
    "    ab_str = input()\n",
    "    ab_str = ab_str.split(' ')\n",
    "    b[i] = int(ab_str[0])\n",
    "    a[i] = int(ab_str[1])"
   ]
  },
  {
   "cell_type": "code",
   "execution_count": null,
   "metadata": {},
   "outputs": [],
   "source": []
  },
  {
   "cell_type": "code",
   "execution_count": null,
   "metadata": {},
   "outputs": [],
   "source": []
  }
 ],
 "metadata": {
  "kernelspec": {
   "display_name": "Python 3",
   "language": "python",
   "name": "python3"
  },
  "language_info": {
   "codemirror_mode": {
    "name": "ipython",
    "version": 3
   },
   "file_extension": ".py",
   "mimetype": "text/x-python",
   "name": "python",
   "nbconvert_exporter": "python",
   "pygments_lexer": "ipython3",
   "version": "3.6.5"
  },
  "toc": {
   "base_numbering": 1,
   "nav_menu": {},
   "number_sections": true,
   "sideBar": true,
   "skip_h1_title": false,
   "title_cell": "Table of Contents",
   "title_sidebar": "Contents",
   "toc_cell": false,
   "toc_position": {},
   "toc_section_display": true,
   "toc_window_display": false
  }
 },
 "nbformat": 4,
 "nbformat_minor": 2
}
