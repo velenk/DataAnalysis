{
 "cells": [
  {
   "cell_type": "code",
   "execution_count": null,
   "metadata": {},
   "outputs": [],
   "source": [
    "0.5**3 * 100 * 2"
   ]
  },
  {
   "cell_type": "code",
   "execution_count": 1,
   "metadata": {
    "scrolled": true
   },
   "outputs": [
    {
     "name": "stdout",
     "output_type": "stream",
     "text": [
      "3\n",
      "2 1 4\n",
      "1.785911591671\n"
     ]
    }
   ],
   "source": [
    "def gcd(a0, b0):\n",
    "    while(b0!=0):\n",
    "        a0 = a0+b0\n",
    "        b0 = a0-b0\n",
    "        a0 = a0-b0\n",
    "        b0 = b0%a0\n",
    "    return a0\n",
    "\n",
    "\n",
    "n = int(input())\n",
    "n0 = n\n",
    "if (n==1):\n",
    "    k = int(input())\n",
    "    print(float(k))\n",
    "else:\n",
    "\n",
    "    a = [0 for i in range(5050)]\n",
    "    a_str = input()\n",
    "    a = a_str.split(' ')\n",
    "    for i in range(n):\n",
    "        a[i] = int(a[i])\n",
    "\n",
    "    a.sort(reverse=True)\n",
    "    \n",
    "    sum0 = 1\n",
    "    for i in range(n):\n",
    "        sum0 = sum0 * a[i] / gcd(int(sum0), a[i])\n",
    "        \n",
    "    p = [0 for i in range(5050)]\n",
    "    \n",
    "    while(n>1):\n",
    "\n",
    "        for i in range(n):\n",
    "            p[i] = sum0 / a[i]\n",
    "\n",
    "        sum1 = 0\n",
    "        flag = 0\n",
    "        for i in range(n):\n",
    "            p[i] = pow(p[i], 1/(n0-1))\n",
    "            sum1 += p[i]\n",
    "            \n",
    "        \n",
    "        sum2 = 0\n",
    "        for i in range(n):\n",
    "            sum2 += a[i]\n",
    "            p[i] = p[i] * (n-1) / sum1\n",
    "            if (p[i] > 1):\n",
    "                flag = 1\n",
    "            sum2 -= pow(p[i], n0) * a[i]\n",
    "\n",
    "        if (flag == 0):\n",
    "            break\n",
    "        for i in range(n-1, 0, -1):\n",
    "            if (p[i] > 1):\n",
    "                n -= 1\n",
    "            else:\n",
    "                break\n",
    "    \n",
    "    print('{0:.12f}'.format(sum2/n0))\n"
   ]
  },
  {
   "cell_type": "code",
   "execution_count": null,
   "metadata": {
    "scrolled": true
   },
   "outputs": [],
   "source": [
    "442*3"
   ]
  }
 ],
 "metadata": {
  "kernelspec": {
   "display_name": "Python 3",
   "language": "python",
   "name": "python3"
  },
  "language_info": {
   "codemirror_mode": {
    "name": "ipython",
    "version": 3
   },
   "file_extension": ".py",
   "mimetype": "text/x-python",
   "name": "python",
   "nbconvert_exporter": "python",
   "pygments_lexer": "ipython3",
   "version": "3.6.5"
  },
  "toc": {
   "base_numbering": 1,
   "nav_menu": {},
   "number_sections": true,
   "sideBar": true,
   "skip_h1_title": false,
   "title_cell": "Table of Contents",
   "title_sidebar": "Contents",
   "toc_cell": false,
   "toc_position": {},
   "toc_section_display": true,
   "toc_window_display": false
  }
 },
 "nbformat": 4,
 "nbformat_minor": 2
}
