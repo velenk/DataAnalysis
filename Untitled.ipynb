{
 "cells": [
  {
   "cell_type": "code",
   "execution_count": 31,
   "metadata": {},
   "outputs": [
    {
     "name": "stdout",
     "output_type": "stream",
     "text": [
      "632.157349838603\n"
     ]
    }
   ],
   "source": [
    "p = 4999/5000\n",
    "sum00 = 5000 - 5000 * p**5000\n",
    "print(sum00/5)"
   ]
  },
  {
   "cell_type": "code",
   "execution_count": 7,
   "metadata": {},
   "outputs": [
    {
     "data": {
      "text/plain": [
       "1.0002197905614227"
      ]
     },
     "execution_count": 7,
     "metadata": {},
     "output_type": "execute_result"
    }
   ],
   "source": [
    "pow(3, 1/4999)"
   ]
  },
  {
   "cell_type": "code",
   "execution_count": 10,
   "metadata": {
    "scrolled": false
   },
   "outputs": [
    {
     "name": "stdout",
     "output_type": "stream",
     "text": [
      "1\n",
      "6\n",
      "6.0\n"
     ]
    }
   ],
   "source": [
    "def gcd(a, b):\n",
    "    while(b!=0):\n",
    "        a = a+b\n",
    "        b = a-b\n",
    "        a = a-b\n",
    "        b = b%a\n",
    "    return a\n",
    "\n",
    "n = int(input())\n",
    "if (n==1):\n",
    "    k = int(input())\n",
    "    print(float(k))\n",
    "else:\n",
    "\n",
    "    a = [0 for i in range(5005)]\n",
    "    p = [0 for i in range(5005)]\n",
    "    a_str = input()\n",
    "    a = a_str.split(' ')\n",
    "    for i in range(n):\n",
    "        a[i] = int(a[i])\n",
    "    # for i in range(n):\n",
    "    #     a[i] = int(input())\n",
    "\n",
    "    sum0 = 1\n",
    "    for i in range(n):\n",
    "        sum0 = sum0 // gcd(sum0, a[i]) * a[i]\n",
    "\n",
    "    for i in range(n):\n",
    "        p[i] = sum0 // a[i]\n",
    "\n",
    "    sum1 = 0\n",
    "    for i in range(n):\n",
    "        p[i] = pow(p[i], 1/(n-1))\n",
    "        sum1 += p[i]\n",
    "    \n",
    "    sum2 = 0\n",
    "    for i in range(n):\n",
    "        sum2 += a[i]\n",
    "        p[i] = p[i] * (n-1) / sum1\n",
    "        sum2 -= pow(p[i], n) * a[i]\n",
    "\n",
    "    sum2 /= n\n",
    "    print(sum2)"
   ]
  }
 ],
 "metadata": {
  "kernelspec": {
   "display_name": "Python 3",
   "language": "python",
   "name": "python3"
  },
  "language_info": {
   "codemirror_mode": {
    "name": "ipython",
    "version": 3
   },
   "file_extension": ".py",
   "mimetype": "text/x-python",
   "name": "python",
   "nbconvert_exporter": "python",
   "pygments_lexer": "ipython3",
   "version": "3.6.5"
  },
  "toc": {
   "base_numbering": 1,
   "nav_menu": {},
   "number_sections": true,
   "sideBar": true,
   "skip_h1_title": false,
   "title_cell": "Table of Contents",
   "title_sidebar": "Contents",
   "toc_cell": false,
   "toc_position": {},
   "toc_section_display": true,
   "toc_window_display": false
  }
 },
 "nbformat": 4,
 "nbformat_minor": 2
}
